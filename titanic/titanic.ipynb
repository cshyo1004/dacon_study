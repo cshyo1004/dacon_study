{
 "cells": [
  {
   "cell_type": "markdown",
   "metadata": {},
   "source": [
    "#### 환경설정"
   ]
  },
  {
   "cell_type": "code",
   "execution_count": null,
   "metadata": {},
   "outputs": [],
   "source": [
    "import numpy as np\n",
    "import pandas as pd\n",
    "from sklearn.model_selection import train_test_split\n",
    "from sklearn.metrics import accuracy_score\n",
    "from catboost import CatBoostClassifier, Pool\n",
    "import warnings\n",
    "warnings.filterwarnings('ignore')"
   ]
  },
  {
   "cell_type": "markdown",
   "metadata": {},
   "source": [
    "#### 데이터 불러오기"
   ]
  },
  {
   "cell_type": "code",
   "execution_count": null,
   "metadata": {},
   "outputs": [],
   "source": [
    "train = pd.read_csv('train.csv')\n",
    "test = pd.read_csv('test.csv')\n",
    "submission = pd.read_csv('submission.csv')"
   ]
  },
  {
   "cell_type": "markdown",
   "metadata": {},
   "source": [
    "#### 결측치 확인"
   ]
  },
  {
   "cell_type": "code",
   "execution_count": null,
   "metadata": {},
   "outputs": [],
   "source": [
    "print(train.isnull().sum())\n",
    "print(test.isnull().sum())"
   ]
  },
  {
   "cell_type": "markdown",
   "metadata": {},
   "source": [
    "#### 데이터 전처리\n",
    "결측치 처리<br>\n",
    "- Age : Pclass에 따라서 Age를 짐작할 수 있다고 판단하여, Pclass에 따른 나이의 중간 값으로 대체<br>\n",
    "- Cabin : Pclass에 따라서 Cabin을 짐작할 수 있다고 판단하여, Pclass에 따른 Cabin의 분포별 값으로 대체<br>\n",
    "- Embarked : 개수가 적다고 생각하여 삭제<br>\n",
    "- Fare : 0으로 대체<br>\n",
    "\n",
    "형변환<br>\n",
    "- Fare : Float -> Int<br>\n",
    "\n",
    "PassengerID column 삭제"
   ]
  },
  {
   "cell_type": "code",
   "execution_count": null,
   "metadata": {},
   "outputs": [],
   "source": [
    "# 데이터 전처리\n",
    "## Pclass별 평균 Age 값으로 대체\n",
    "age_by_pclass_train = {x : float(int(train[train['Pclass']==x]['Age'].mean())) for x in train['Pclass'].unique()}\n",
    "age_by_pclass_test = {x : float(int(test[test['Pclass']==x]['Age'].mean())) for x in test['Pclass'].unique()}\n",
    "train['Age'] = [x if x>=0.0 else age_by_pclass_train[y] for x,y in zip(train['Age'], train['Pclass'])]\n",
    "train['Age'] = train['Age'].astype(int)\n",
    "test['Age'] = [x if x>=0.0 else age_by_pclass_test[y] for x,y in zip(test['Age'], test['Pclass'])]\n",
    "test['Age'] = test['Age'].astype(int)\n",
    "\n",
    "## Cabin 데이터 대체\n",
    "## train\n",
    "## Cabin data에 spacebar가 들어가있는 경우에는 뒤에 가장 뒤에 있는 값으로 대체\n",
    "train['Cabin'] = [x.split()[-1] if ' ' in x else x for x in train['Cabin'].astype(str)]\n",
    "## Cabin data의 첫번째 알파벳만 남기고 제거\n",
    "train['Cabin'] = [x[:1] for x in train['Cabin']]\n",
    "## Cabin != nan\n",
    "df_cabin = train[train['Cabin'] != 'n']\n",
    "p1_per = df_cabin[train['Pclass']==1]['Cabin'].value_counts()/len(df_cabin[train['Pclass']==1])\n",
    "p2_per = df_cabin[train['Pclass']==2]['Cabin'].value_counts()/len(df_cabin[train['Pclass']==2])\n",
    "p3_per = df_cabin[train['Pclass']==3]['Cabin'].value_counts()/len(df_cabin[train['Pclass']==3])\n",
    "## Cabin == nan\n",
    "df_nan = train[train['Cabin']=='n']\n",
    "## Cabin == nan, Pclass == 1\n",
    "p1_values = np.round(np.array(p1_per)*len(df_nan[train['Pclass']==1])).astype(int)\n",
    "## PassengerId별 Cabin 값 저장\n",
    "nan_cabin = {x:y for x,y in zip(df_nan[train['Pclass']==1]['PassengerId'],''.join([x*y for x,y in zip(p1_per.keys(), p1_values)]))}\n",
    "## Cabin == nan, Pclass == 2\n",
    "p2_values = np.round(np.array(p2_per)*len(df_nan[train['Pclass']==2])).astype(int)\n",
    "## PassengerId별 Cabin 값 저장\n",
    "nan_cabin.update({x:y for x,y in zip(df_nan[train['Pclass']==2]['PassengerId'],''.join([x*y for x,y in zip(p2_per.keys(), p2_values)]))})\n",
    "## Cabin == nan, Pclass == 3\n",
    "p3_values = np.round(np.array(p3_per)*len(df_nan[train['Pclass']==3])).astype(int)\n",
    "## PassengerId별 Cabin 값 저장\n",
    "nan_cabin.update({x:y for x,y in zip(df_nan[train['Pclass']==3]['PassengerId'],''.join([x*y for x,y in zip(p3_per.keys(), p3_values)]))})\n",
    "## dataframe의 PassengerId별 Cabin 값\n",
    "cabin_by_pid = {x:y for x,y in zip(train['PassengerId'], train['Cabin'])}\n",
    "## nan_cabin update\n",
    "cabin_by_pid.update(nan_cabin)\n",
    "## dataframe에 최종 cabin 값 업데이트\n",
    "train['Cabin'] = list(cabin_by_pid.values())\n",
    "\n",
    "## test\n",
    "## Cabin data에 spacebar가 들어가있는 경우에는 뒤에 가장 뒤에 있는 값으로 대체\n",
    "test['Cabin'] = [x.split()[-1] if ' ' in x else x for x in test['Cabin'].astype(str)]\n",
    "## Cabin data의 첫번째 알파벳만 남기고 제거\n",
    "test['Cabin'] = [x[:1] for x in test['Cabin']]\n",
    "## Cabin != nan\n",
    "df_cabin = test[test['Cabin'] != 'n']\n",
    "p1_per = df_cabin[test['Pclass']==1]['Cabin'].value_counts()/len(df_cabin[test['Pclass']==1])\n",
    "p2_per = df_cabin[test['Pclass']==2]['Cabin'].value_counts()/len(df_cabin[test['Pclass']==2])\n",
    "p3_per = df_cabin[test['Pclass']==3]['Cabin'].value_counts()/len(df_cabin[test['Pclass']==3])\n",
    "## Cabin == nan\n",
    "df_nan = test[test['Cabin']=='n']\n",
    "## Cabin == nan, Pclass == 1\n",
    "p1_values = np.round(np.array(p1_per)*len(df_nan[test['Pclass']==1])).astype(int)\n",
    "## PassengerId별 Cabin 값 저장\n",
    "nan_cabin = {x:y for x,y in zip(df_nan[test['Pclass']==1]['PassengerId'],''.join([x*y for x,y in zip(p1_per.keys(), p1_values)]))}\n",
    "## Cabin == nan, Pclass == 2\n",
    "p2_values = np.round(np.array(p2_per)*len(df_nan[test['Pclass']==2])).astype(int)\n",
    "## PassengerId별 Cabin 값 저장\n",
    "nan_cabin.update({x:y for x,y in zip(df_nan[test['Pclass']==2]['PassengerId'],''.join([x*y for x,y in zip(p2_per.keys(), p2_values)]))})\n",
    "## Cabin == nan, Pclass == 3\n",
    "p3_values = np.round(np.array(p3_per)*len(df_nan[test['Pclass']==3])).astype(int)\n",
    "## PassengerId별 Cabin 값 저장\n",
    "nan_cabin.update({x:y for x,y in zip(df_nan[test['Pclass']==3]['PassengerId'],''.join([x*y for x,y in zip(p3_per.keys(), p3_values)]))})\n",
    "## dataframe의 PassengerId별 Cabin 값\n",
    "cabin_by_pid = {x:y for x,y in zip(test['PassengerId'], test['Cabin'])}\n",
    "## nan_cabin update\n",
    "cabin_by_pid.update(nan_cabin)\n",
    "## dataframe에 최종 cabin 값 업데이트\n",
    "test['Cabin'] = list(cabin_by_pid.values())\n",
    "\n",
    "## Embarked 데이터 삭제\n",
    "train.dropna(subset=['Embarked'], inplace=True)\n",
    "\n",
    "## Fare 데이터 0으로 대체\n",
    "test['Fare'].fillna(0, inplace=True)\n",
    "\n",
    "## Fare 데이터 dtype int형으로 변경\n",
    "train['Fare'] = train['Fare'].astype(int)\n",
    "test['Fare'] = test['Fare'].astype(int)\n",
    "\n",
    "## PassengerId 삭제\n",
    "train.drop(columns=['PassengerId'], inplace=True)\n",
    "test.drop(columns=['PassengerId'], inplace=True)\n"
   ]
  },
  {
   "cell_type": "markdown",
   "metadata": {},
   "source": [
    "#### 데이터 확인"
   ]
  },
  {
   "cell_type": "code",
   "execution_count": null,
   "metadata": {},
   "outputs": [],
   "source": [
    "print(train.info())\n",
    "print(test.info())"
   ]
  },
  {
   "cell_type": "markdown",
   "metadata": {},
   "source": [
    "#### 범주형 데이터 전처리\n",
    "- feature Name : 889개의 고유 데이터, 예측 모델에 악영향을 끼치므로 삭제\n",
    "- feature Sex : 2개의 고유 데이터, pd.get_dummies를 이용한 one_hot encoding\n",
    "- feature Ticket : 680개의 고유 데이터, 예측 모델에 악영향을 끼치므로 삭제\n",
    "- feature Cabin : 8개의 고유 데이터, pd.get_dummies를 이용한 one_hot encoding\n",
    "- feature Embarked : 3개의 고유 데이터, pd.get_dummies를 이용한 one_hot encoding\n",
    "\n",
    "\n"
   ]
  },
  {
   "cell_type": "code",
   "execution_count": null,
   "metadata": {},
   "outputs": [],
   "source": [
    "train.drop(columns=['Name','Ticket'], inplace=True)\n",
    "test.drop(columns=['Name','Ticket'], inplace=True)\n",
    "# encoding\n",
    "## Sex\n",
    "concat_sex_train = pd.get_dummies(train['Sex'], prefix='Sex')\n",
    "concat_sex_test = pd.get_dummies(test['Sex'], prefix='Sex')\n",
    "## Cabin\n",
    "concat_cabin_train = pd.get_dummies(train['Cabin'], prefix='Cabin')\n",
    "concat_cabin_test = pd.get_dummies(test['Cabin'], prefix='Cabin')\n",
    "## Embarked\n",
    "concat_embarked_train = pd.get_dummies(train['Embarked'], prefix='Embarked')\n",
    "concat_embarked_test = pd.get_dummies(test['Embarked'], prefix='Embarked')\n",
    "# concat\n",
    "train = pd.concat([train, concat_sex_train, concat_cabin_train, concat_embarked_train], axis=1)\n",
    "train.drop(columns=['Sex','Cabin','Embarked'], inplace=True)\n",
    "test = pd.concat([test, concat_sex_test, concat_cabin_test, concat_embarked_test], axis=1)\n",
    "test.drop(columns=['Sex','Cabin','Embarked'], inplace=True)"
   ]
  },
  {
   "cell_type": "markdown",
   "metadata": {},
   "source": [
    "#### 모델 학습\n",
    "train size : 70%<br>\n",
    "test size : 30%<br>\n",
    "모델 : CatBoostClassifier<br>\n",
    "parameter<br>\n",
    "    - eval_metric : 'AUC'<br>\n",
    "    - use_best_model : True<br>"
   ]
  },
  {
   "cell_type": "code",
   "execution_count": null,
   "metadata": {},
   "outputs": [],
   "source": [
    "xtrain, ytrain, xtest, ytest = train_test_split(train.drop(columns=['Survived']), train.loc[:, 'Survived'], test_size=0.3, random_state=1, stratify=train.loc[:, 'Survived'])\n",
    "train_pool = Pool(xtrain, xtest, cat_features=np.where(xtrain.columns)[0])\n",
    "eval_pool = Pool(ytrain, ytest, cat_features=np.where(ytrain.columns)[0])\n",
    "model = CatBoostClassifier(eval_metric='AUC', use_best_model=True)\n",
    "model.fit(train_pool, eval_set=eval_pool)\n",
    "prediction = model.predict(ytrain)\n",
    "print(f'train score : {model.score(xtrain, xtest)}')\n",
    "print(f'model eval : {accuracy_score(ytest, prediction)}')"
   ]
  },
  {
   "cell_type": "markdown",
   "metadata": {},
   "source": [
    "#### 결과\n",
    "AUC : 0.742"
   ]
  },
  {
   "cell_type": "code",
   "execution_count": null,
   "metadata": {},
   "outputs": [],
   "source": [
    "x_train = train.drop(columns=['Survived'])\n",
    "x_test = train.loc[:, 'Survived']\n",
    "y_train = test\n",
    "y_train['Cabin_T'] = 0\n",
    "\n",
    "prediction = model.predict(y_train)\n",
    "submission['Survived'] = prediction\n",
    "submission.to_csv('submission_CAT.csv', index=False)"
   ]
  }
 ],
 "metadata": {
  "interpreter": {
   "hash": "8ac5dfbc7778d70f8129c87b5ca27c485d161ba4674bfbe4a0640d069dac5e6e"
  },
  "kernelspec": {
   "display_name": "Python 3.9.7 64-bit ('venv': venv)",
   "language": "python",
   "name": "python3"
  },
  "language_info": {
   "codemirror_mode": {
    "name": "ipython",
    "version": 3
   },
   "file_extension": ".py",
   "mimetype": "text/x-python",
   "name": "python",
   "nbconvert_exporter": "python",
   "pygments_lexer": "ipython3",
   "version": "3.9.7"
  },
  "orig_nbformat": 4
 },
 "nbformat": 4,
 "nbformat_minor": 2
}
